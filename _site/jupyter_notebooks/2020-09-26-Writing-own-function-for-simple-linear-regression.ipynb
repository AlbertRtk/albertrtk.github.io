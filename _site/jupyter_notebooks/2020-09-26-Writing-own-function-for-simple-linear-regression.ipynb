{
 "cells": [
  {
   "cell_type": "markdown",
   "metadata": {},
   "source": [
    "Having a set of data pairs (*x, y*), where *y* shows linear dependence on *x*, the line of best fit can be found with \n",
    "[simple linear regression]({% link _posts\\handbook\\statistics\\2020-09-16-simple-linear-regression.md %}) model. In this post, I present Pyhton code solving the problem of simple linear regression.\n",
    "<!--more-->"
   ]
  },
  {
   "cell_type": "markdown",
   "metadata": {},
   "source": [
    "# Imports and data preparation\n",
    "\n",
    "First, let's import stuff. Numpy for arangement and easy processing of numerical data, Matplotlib for visualization, and in the and stats modul from Scipy to test if implemented solution works properly."
   ]
  },
  {
   "cell_type": "code",
   "execution_count": 1,
   "metadata": {},
   "outputs": [],
   "source": [
    "import numpy as np\n",
    "import matplotlib.pyplot as plt\n",
    "from scipy import stats"
   ]
  },
  {
   "cell_type": "markdown",
   "metadata": {},
   "source": [
    "Now, we can arrange an array of independent variable *X*, and calculate values of dependent variable *Y*, assuming some linear dependence. We don't want to get straght line, so a bit of noise is introduced onto *Y*."
   ]
  },
  {
   "cell_type": "code",
   "execution_count": 2,
   "metadata": {},
   "outputs": [],
   "source": [
    "X = np.arange(0, 100)\n",
    "noise = 20 * np.random.normal(size=100)\n",
    "Y = (3*X+14) + noise"
   ]
  },
  {
   "cell_type": "markdown",
   "metadata": {},
   "source": [
    "Time to see what we've got."
   ]
  },
  {
   "cell_type": "code",
   "execution_count": 3,
   "metadata": {},
   "outputs": [
    {
     "data": {
      "image/png": "[encoded data removed]",
      "text/plain": [
       "<Figure size 432x288 with 1 Axes>"
      ]
     },
     "metadata": {
      "needs_background": "light"
     },
     "output_type": "display_data"
    }
   ],
   "source": [
    "plt.scatter(X, Y)\n",
    "plt.xlabel('X')\n",
    "_ = plt.ylabel('Y')"
   ]
  },
  {
   "cell_type": "markdown",
   "metadata": {},
   "source": [
    "Looks fine. There is clearly linear dependence, however points don't create straight line (due to introduced noise)."
   ]
  },
  {
   "cell_type": "markdown",
   "metadata": {},
   "source": [
    "# Writing the algorithm\n",
    "\n",
    "The slope for the line of best fit is given with equation\n",
    "\n",
    "![a](/assets/images/handbook/statistics/simple_linear_regression_a.gif)\n",
    "\n",
    "Below function will calculate the value of *a*."
   ]
  },
  {
   "cell_type": "code",
   "execution_count": 4,
   "metadata": {},
   "outputs": [],
   "source": [
    "def get_slope(x, y):\n",
    "    n = len(x)\n",
    "    xy = x * y\n",
    "    xx = x * x\n",
    "    \n",
    "    sum_x = x.sum()\n",
    "    sum_y = y.sum()\n",
    "    sum_xy = xy.sum()\n",
    "    sum_xx = xx.sum()\n",
    "    sum_x_sq = sum_x * sum_x\n",
    "    \n",
    "    a_output = (n * sum_xy - sum_x * sum_y) / (n * sum_xx - sum_x_sq)\n",
    "    \n",
    "    return a_output"
   ]
  },
  {
   "cell_type": "markdown",
   "metadata": {},
   "source": [
    "The value of *b* can be calculated using the slope, which is the output of function ```get_slope```\n",
    "\n",
    "![b](/assets/images/handbook/statistics/simple_linear_regression_b_by_means.gif)"
   ]
  },
  {
   "cell_type": "code",
   "execution_count": 5,
   "metadata": {},
   "outputs": [],
   "source": [
    "def get_intercept(x, y, slope):\n",
    "    return y.mean() - slope * x.mean()"
   ]
  },
  {
   "cell_type": "markdown",
   "metadata": {},
   "source": [
    "Next three functions are used to calculate the coefficient of determination *R<sup>2</sup>*."
   ]
  },
  {
   "cell_type": "code",
   "execution_count": 6,
   "metadata": {},
   "outputs": [],
   "source": [
    "def get_residual_sum_of_squares(y, y_fit):\n",
    "    squares = (y - y_fit) ** 2\n",
    "    return squares.sum()\n",
    "\n",
    "def get_total_sum_of_squares(y):\n",
    "    squares = (y - y.mean()) ** 2\n",
    "    return squares.sum()\n",
    "\n",
    "def get_r_squared(y, y_fit):\n",
    "    ss_res = get_residual_sum_of_squares(y, y_fit)\n",
    "    ss_tot = get_total_sum_of_squares(y)\n",
    "    return (1 - ss_res / ss_tot)"
   ]
  },
  {
   "cell_type": "markdown",
   "metadata": {},
   "source": [
    "Finally, we can put everthing together and close it in one function ```linear_regression```. The function will return the dictionary with short summary (containing the value of slope, intercept, and R-squared) and set of Numpy arrays with the result of fitting."
   ]
  },
  {
   "cell_type": "code",
   "execution_count": 7,
   "metadata": {},
   "outputs": [],
   "source": [
    "def linear_regression(x, y):\n",
    "    slope = get_slope(x, y)\n",
    "    intercept = get_intercept(x, y, slope)\n",
    "    y_fit = slope * x + intercept\n",
    "    r_squared = get_r_squared(y, y_fit)\n",
    "    \n",
    "    summary = {'Slope': slope, \n",
    "               'Intercept': intercept,\n",
    "               'R-squared': r_squared}\n",
    "    \n",
    "    return summary, (x, y_fit)"
   ]
  },
  {
   "cell_type": "markdown",
   "metadata": {},
   "source": [
    "# Running the algoritm\n",
    "\n",
    "Let's see if implemented code works."
   ]
  },
  {
   "cell_type": "code",
   "execution_count": 8,
   "metadata": {},
   "outputs": [
    {
     "data": {
      "text/plain": [
       "{'Slope': 2.959611239086049,\n",
       " 'Intercept': 13.001211160835936,\n",
       " 'R-squared': 0.9529103935021158}"
      ]
     },
     "execution_count": 8,
     "metadata": {},
     "output_type": "execute_result"
    }
   ],
   "source": [
    "summary, fit = linear_regression(X, Y)\n",
    "summary"
   ]
  },
  {
   "cell_type": "markdown",
   "metadata": {},
   "source": [
    "Time to plot the input data and the line of best fit together in one graph."
   ]
  },
  {
   "cell_type": "code",
   "execution_count": 9,
   "metadata": {},
   "outputs": [
    {
     "data": {
      "image/png": "[encoded data removed]",
      "text/plain": [
       "<Figure size 432x288 with 1 Axes>"
      ]
     },
     "metadata": {
      "needs_background": "light"
     },
     "output_type": "display_data"
    }
   ],
   "source": [
    "plt.scatter(X, Y)\n",
    "plt.plot(fit[0], fit[1], c='r', linewidth=3)\n",
    "plt.legend(['fit', 'data'])\n",
    "plt.xlabel('X')\n",
    "_ = plt.ylabel('Y')"
   ]
  },
  {
   "cell_type": "markdown",
   "metadata": {},
   "source": [
    "Looks really good :-)"
   ]
  },
  {
   "cell_type": "markdown",
   "metadata": {},
   "source": [
    "# Finall test\n",
    "\n",
    "We can use ```scipy.stats``` to do linear regression on the same set of data and compare the result with result recieved with implemented model. This will be the fiall check if everthing is correct."
   ]
  },
  {
   "cell_type": "code",
   "execution_count": 10,
   "metadata": {},
   "outputs": [],
   "source": [
    "slope, intercept, r_value, *_ = stats.linregress(X, Y)\n",
    "r_squared = r_value ** 2\n",
    "summary_stats = {'Slope': slope, 'Intercept': intercept, 'R-squared': r_squared}"
   ]
  },
  {
   "cell_type": "markdown",
   "metadata": {},
   "source": [
    "Let's put evething to Pandas DataFrame, so it is easier to compare the results."
   ]
  },
  {
   "cell_type": "code",
   "execution_count": 11,
   "metadata": {},
   "outputs": [
    {
     "data": {
      "text/html": [
       "<div>\n",
       "<style scoped>\n",
       "    .dataframe tbody tr th:only-of-type {\n",
       "        vertical-align: middle;\n",
       "    }\n",
       "\n",
       "    .dataframe tbody tr th {\n",
       "        vertical-align: top;\n",
       "    }\n",
       "\n",
       "    .dataframe thead th {\n",
       "        text-align: right;\n",
       "    }\n",
       "</style>\n",
       "<table border=\"1\" class=\"dataframe\">\n",
       "  <thead>\n",
       "    <tr style=\"text-align: right;\">\n",
       "      <th></th>\n",
       "      <th>Slope</th>\n",
       "      <th>Intercept</th>\n",
       "      <th>R-squared</th>\n",
       "    </tr>\n",
       "  </thead>\n",
       "  <tbody>\n",
       "    <tr>\n",
       "      <th>My model</th>\n",
       "      <td>2.959611</td>\n",
       "      <td>13.001211</td>\n",
       "      <td>0.95291</td>\n",
       "    </tr>\n",
       "    <tr>\n",
       "      <th>Scipy model</th>\n",
       "      <td>2.959611</td>\n",
       "      <td>13.001211</td>\n",
       "      <td>0.95291</td>\n",
       "    </tr>\n",
       "  </tbody>\n",
       "</table>\n",
       "</div>"
      ],
      "text/plain": [
       "                Slope  Intercept  R-squared\n",
       "My model     2.959611  13.001211    0.95291\n",
       "Scipy model  2.959611  13.001211    0.95291"
      ]
     },
     "execution_count": 11,
     "metadata": {},
     "output_type": "execute_result"
    }
   ],
   "source": [
    "import pandas as pd\n",
    "\n",
    "pd.DataFrame(data=[summary, summary_stats], index=['My model', 'Scipy model'])"
   ]
  },
  {
   "cell_type": "markdown",
   "metadata": {},
   "source": [
    "It works! :D"
   ]
  }
 ],
 "metadata": {
  "kernelspec": {
   "display_name": "Python 3",
   "language": "python",
   "name": "python3"
  },
  "language_info": {
   "codemirror_mode": {
    "name": "ipython",
    "version": 3
   },
   "file_extension": ".py",
   "mimetype": "text/x-python",
   "name": "python",
   "nbconvert_exporter": "python",
   "pygments_lexer": "ipython3",
   "version": "3.8.3"
  }
 },
 "nbformat": 4,
 "nbformat_minor": 4
}
